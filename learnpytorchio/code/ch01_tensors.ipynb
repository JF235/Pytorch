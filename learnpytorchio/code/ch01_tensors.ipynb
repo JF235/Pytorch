{
  "nbformat": 4,
  "nbformat_minor": 0,
  "metadata": {
    "colab": {
      "provenance": []
    },
    "kernelspec": {
      "name": "python3",
      "display_name": "Python 3"
    },
    "language_info": {
      "name": "python"
    }
  },
  "cells": [
    {
      "cell_type": "code",
      "execution_count": 1,
      "metadata": {
        "id": "ZXPoi1ZJ_jYD"
      },
      "outputs": [],
      "source": [
        "import torch"
      ]
    },
    {
      "cell_type": "code",
      "source": [
        "print(torch.__version__)"
      ],
      "metadata": {
        "colab": {
          "base_uri": "https://localhost:8080/"
        },
        "id": "hVpOGDe3_mjW",
        "outputId": "d5ccf077-ecc2-4efe-8877-20657d9aa1ec"
      },
      "execution_count": 2,
      "outputs": [
        {
          "output_type": "stream",
          "name": "stdout",
          "text": [
            "2.5.1+cu121\n"
          ]
        }
      ]
    },
    {
      "cell_type": "markdown",
      "source": [
        "# 1. PyTorch fundamentals"
      ],
      "metadata": {
        "id": "ELKNk1eDD7v6"
      }
    },
    {
      "cell_type": "markdown",
      "source": [
        "## 1. Creating Tensors"
      ],
      "metadata": {
        "id": "BZPf-jrUAR8q"
      }
    },
    {
      "cell_type": "code",
      "source": [
        "#@title Scalar\n",
        "scalar = torch.tensor(235)\n",
        "print(\"scalar =\", scalar)\n",
        "print(\"scalar.ndim =\", scalar.ndim)\n",
        "print(\"scalar.shape =\", scalar.shape)"
      ],
      "metadata": {
        "colab": {
          "base_uri": "https://localhost:8080/"
        },
        "id": "c25csn6t_0xP",
        "outputId": "5db44e4b-9511-4d41-d9a4-463afdb4608b"
      },
      "execution_count": 4,
      "outputs": [
        {
          "output_type": "stream",
          "name": "stdout",
          "text": [
            "scalar = tensor(235)\n",
            "scalar.ndim = 0\n",
            "scalar.shape = torch.Size([])\n"
          ]
        }
      ]
    },
    {
      "cell_type": "code",
      "source": [
        "#@title Vector\n",
        "vector = torch.tensor([1, 2, 3])\n",
        "print(\"vector =\", vector)\n",
        "print(\"vector.ndim =\", vector.ndim)\n",
        "print(\"vector.shape =\", vector.shape)"
      ],
      "metadata": {
        "colab": {
          "base_uri": "https://localhost:8080/"
        },
        "id": "EO504VxEAeXi",
        "outputId": "e067c09c-fa18-44b6-8619-792d2893212b"
      },
      "execution_count": 5,
      "outputs": [
        {
          "output_type": "stream",
          "name": "stdout",
          "text": [
            "vector = tensor([1, 2, 3])\n",
            "vector.ndim = 1\n",
            "vector.shape = torch.Size([3])\n"
          ]
        }
      ]
    },
    {
      "cell_type": "markdown",
      "source": [
        "Elementos de um tensor de dimensão 1 (vetor) podem ser acessados usando somente um índice (exemplo abaixo)."
      ],
      "metadata": {
        "id": "OKUNWs2iBf1_"
      }
    },
    {
      "cell_type": "code",
      "source": [
        "for i in range(vector.shape[0]):\n",
        "    print(f\"vector[{i}] =\", vector[i])"
      ],
      "metadata": {
        "colab": {
          "base_uri": "https://localhost:8080/"
        },
        "id": "yb8cHY5XBGoJ",
        "outputId": "7f71df33-56b6-4192-9ea5-2468498f8657"
      },
      "execution_count": 6,
      "outputs": [
        {
          "output_type": "stream",
          "name": "stdout",
          "text": [
            "vector[0] = tensor(1)\n",
            "vector[1] = tensor(2)\n",
            "vector[2] = tensor(3)\n"
          ]
        }
      ]
    },
    {
      "cell_type": "markdown",
      "source": [
        "Como é armazenado em memória"
      ],
      "metadata": {
        "id": "xCr22ONFBsm4"
      }
    },
    {
      "cell_type": "code",
      "source": [
        "print(\"vector.dtype =\", vector.dtype)"
      ],
      "metadata": {
        "colab": {
          "base_uri": "https://localhost:8080/"
        },
        "id": "PYLZTnTaBOWL",
        "outputId": "67712f89-2801-43e2-987a-3187d2dc251a"
      },
      "execution_count": 7,
      "outputs": [
        {
          "output_type": "stream",
          "name": "stdout",
          "text": [
            "vector.dtype = torch.int64\n"
          ]
        }
      ]
    },
    {
      "cell_type": "code",
      "source": [
        "#@title Matrix\n",
        "MATRIX = torch.tensor([[1, 2, 3],\n",
        "                       [4, 5, 6],\n",
        "                       [7, 8, 9]])\n",
        "print(\"MATRIX =\", MATRIX)\n",
        "print(\"MATRIX.ndim =\", MATRIX.ndim)\n",
        "print(\"MATRIX.shape =\", MATRIX.shape)\n",
        "print(\"MATRIX.dtype =\", MATRIX.dtype)"
      ],
      "metadata": {
        "colab": {
          "base_uri": "https://localhost:8080/"
        },
        "id": "aByX5c6oBy4m",
        "outputId": "da7636d6-ef97-47ca-fcf3-257fae07462d"
      },
      "execution_count": 8,
      "outputs": [
        {
          "output_type": "stream",
          "name": "stdout",
          "text": [
            "MATRIX = tensor([[1, 2, 3],\n",
            "        [4, 5, 6],\n",
            "        [7, 8, 9]])\n",
            "MATRIX.ndim = 2\n",
            "MATRIX.shape = torch.Size([3, 3])\n",
            "MATRIX.dtype = torch.int64\n"
          ]
        }
      ]
    },
    {
      "cell_type": "markdown",
      "source": [
        "Tensor de dimensão 2 precisa de índices para acessar todos os elementos.\n",
        "\n",
        "- Primeiro índice = Linha\n",
        "- Segundo índice = Coluna"
      ],
      "metadata": {
        "id": "Gt_lPNs9CElf"
      }
    },
    {
      "cell_type": "code",
      "source": [
        "for i in range(MATRIX.shape[0]):\n",
        "    print(f\"MATRIX[{i}] =\", MATRIX[i])\n",
        "    for j in range(MATRIX.shape[1]):\n",
        "        print(f\"MATRIX[{i}, {j}] =\", MATRIX[i, j])"
      ],
      "metadata": {
        "colab": {
          "base_uri": "https://localhost:8080/"
        },
        "id": "4Jr0W9RZCBpE",
        "outputId": "892d4e4e-3eb4-4c79-aa67-392ea4eb7af2"
      },
      "execution_count": 9,
      "outputs": [
        {
          "output_type": "stream",
          "name": "stdout",
          "text": [
            "MATRIX[0] = tensor([1, 2, 3])\n",
            "MATRIX[0, 0] = tensor(1)\n",
            "MATRIX[0, 1] = tensor(2)\n",
            "MATRIX[0, 2] = tensor(3)\n",
            "MATRIX[1] = tensor([4, 5, 6])\n",
            "MATRIX[1, 0] = tensor(4)\n",
            "MATRIX[1, 1] = tensor(5)\n",
            "MATRIX[1, 2] = tensor(6)\n",
            "MATRIX[2] = tensor([7, 8, 9])\n",
            "MATRIX[2, 0] = tensor(7)\n",
            "MATRIX[2, 1] = tensor(8)\n",
            "MATRIX[2, 2] = tensor(9)\n"
          ]
        }
      ]
    },
    {
      "cell_type": "code",
      "source": [
        "#@title Tensor\n",
        "M1 = [[1,2,3],\n",
        "     [4,5,6],\n",
        "     [7,8,9]]\n",
        "M2 = [[10,11,12],\n",
        "     [13,14,15],\n",
        "     [16,17,18]]\n",
        "TENSOR = torch.tensor([M1, M2])\n",
        "print(\"TENSOR =\", TENSOR)\n",
        "print(\"TENSOR.ndim =\", TENSOR.ndim)\n",
        "print(\"TENSOR.shape =\", TENSOR.shape)\n",
        "print(\"TENSOR.dtype =\", TENSOR.dtype)"
      ],
      "metadata": {
        "colab": {
          "base_uri": "https://localhost:8080/"
        },
        "id": "sHFnZ_LQCJ-L",
        "outputId": "6dfc55ec-df71-4443-b12b-fd1db0184f98"
      },
      "execution_count": 10,
      "outputs": [
        {
          "output_type": "stream",
          "name": "stdout",
          "text": [
            "TENSOR = tensor([[[ 1,  2,  3],\n",
            "         [ 4,  5,  6],\n",
            "         [ 7,  8,  9]],\n",
            "\n",
            "        [[10, 11, 12],\n",
            "         [13, 14, 15],\n",
            "         [16, 17, 18]]])\n",
            "TENSOR.ndim = 3\n",
            "TENSOR.shape = torch.Size([2, 3, 3])\n",
            "TENSOR.dtype = torch.int64\n"
          ]
        }
      ]
    },
    {
      "cell_type": "code",
      "source": [
        "for i in range(TENSOR.shape[0]):\n",
        "  for j in range(TENSOR.shape[1]):\n",
        "    for k in range(TENSOR.shape[2]):\n",
        "      print(f\"TENSOR[{i}, {j}, {k}] =\", TENSOR[i, j, k])"
      ],
      "metadata": {
        "colab": {
          "base_uri": "https://localhost:8080/"
        },
        "id": "c2S7o2TvDCvt",
        "outputId": "a76c8241-7d06-49f4-9d21-5c1a07532ccf"
      },
      "execution_count": 11,
      "outputs": [
        {
          "output_type": "stream",
          "name": "stdout",
          "text": [
            "TENSOR[0, 0, 0] = tensor(1)\n",
            "TENSOR[0, 0, 1] = tensor(2)\n",
            "TENSOR[0, 0, 2] = tensor(3)\n",
            "TENSOR[0, 1, 0] = tensor(4)\n",
            "TENSOR[0, 1, 1] = tensor(5)\n",
            "TENSOR[0, 1, 2] = tensor(6)\n",
            "TENSOR[0, 2, 0] = tensor(7)\n",
            "TENSOR[0, 2, 1] = tensor(8)\n",
            "TENSOR[0, 2, 2] = tensor(9)\n",
            "TENSOR[1, 0, 0] = tensor(10)\n",
            "TENSOR[1, 0, 1] = tensor(11)\n",
            "TENSOR[1, 0, 2] = tensor(12)\n",
            "TENSOR[1, 1, 0] = tensor(13)\n",
            "TENSOR[1, 1, 1] = tensor(14)\n",
            "TENSOR[1, 1, 2] = tensor(15)\n",
            "TENSOR[1, 2, 0] = tensor(16)\n",
            "TENSOR[1, 2, 1] = tensor(17)\n",
            "TENSOR[1, 2, 2] = tensor(18)\n"
          ]
        }
      ]
    },
    {
      "cell_type": "markdown",
      "source": [
        "## 2. Generating Tensors"
      ],
      "metadata": {
        "id": "QLw6E9dpEABe"
      }
    },
    {
      "cell_type": "markdown",
      "source": [
        "### Random"
      ],
      "metadata": {
        "id": "-jNG4YsGKWux"
      }
    },
    {
      "cell_type": "code",
      "source": [
        "R = torch.rand(4, 2, 5)\n",
        "print(\"R =\", R)\n",
        "print(\"R.ndim =\", R.ndim)\n",
        "print(\"R.shape =\", R.shape)\n",
        "print(\"len(R) =\", len(R))\n",
        "print(\"R.numel() =\", R.numel()) # 4 * 2 * 5 = 40\n",
        "print(\"R.dtype =\", R.dtype)"
      ],
      "metadata": {
        "colab": {
          "base_uri": "https://localhost:8080/"
        },
        "id": "S0HdWfwBDWOW",
        "outputId": "250b478c-8df9-4830-fd3b-31000d9f6055"
      },
      "execution_count": 12,
      "outputs": [
        {
          "output_type": "stream",
          "name": "stdout",
          "text": [
            "R = tensor([[[0.5913, 0.0339, 0.4911, 0.8937, 0.6908],\n",
            "         [0.4982, 0.4180, 0.1819, 0.5678, 0.7380]],\n",
            "\n",
            "        [[0.0394, 0.6854, 0.5174, 0.2999, 0.1114],\n",
            "         [0.5024, 0.0523, 0.0110, 0.8569, 0.8986]],\n",
            "\n",
            "        [[0.3761, 0.9958, 0.8654, 0.8049, 0.1656],\n",
            "         [0.2059, 0.0427, 0.7333, 0.1295, 0.2520]],\n",
            "\n",
            "        [[0.2803, 0.2421, 0.1514, 0.5144, 0.3184],\n",
            "         [0.1845, 0.8346, 0.4606, 0.5643, 0.3639]]])\n",
            "R.ndim = 3\n",
            "R.shape = torch.Size([4, 2, 5])\n",
            "len(R) = 4\n",
            "R.numel() = 40\n",
            "R.dtype = torch.float32\n"
          ]
        }
      ]
    },
    {
      "cell_type": "markdown",
      "source": [
        "### Zeros & Ones"
      ],
      "metadata": {
        "id": "jJGDNTtGF6aU"
      }
    },
    {
      "cell_type": "code",
      "source": [
        "R = torch.zeros(4, 2, 5)\n",
        "print(\"R =\", R)\n",
        "print(\"R.dtype =\", R.dtype)"
      ],
      "metadata": {
        "colab": {
          "base_uri": "https://localhost:8080/"
        },
        "id": "-QqpDK52EWPH",
        "outputId": "3536cbdd-211f-4823-a70d-b97bf90707af"
      },
      "execution_count": 13,
      "outputs": [
        {
          "output_type": "stream",
          "name": "stdout",
          "text": [
            "R = tensor([[[0., 0., 0., 0., 0.],\n",
            "         [0., 0., 0., 0., 0.]],\n",
            "\n",
            "        [[0., 0., 0., 0., 0.],\n",
            "         [0., 0., 0., 0., 0.]],\n",
            "\n",
            "        [[0., 0., 0., 0., 0.],\n",
            "         [0., 0., 0., 0., 0.]],\n",
            "\n",
            "        [[0., 0., 0., 0., 0.],\n",
            "         [0., 0., 0., 0., 0.]]])\n",
            "R.dtype = torch.float32\n"
          ]
        }
      ]
    },
    {
      "cell_type": "code",
      "source": [
        "R = torch.ones(4, 2, 5)\n",
        "print(\"R =\", R)\n",
        "print(\"R.dtype =\", R.dtype)"
      ],
      "metadata": {
        "colab": {
          "base_uri": "https://localhost:8080/"
        },
        "id": "P9wrsq6MFqZ-",
        "outputId": "7c1f31e1-7210-4f45-b625-ce6ddc6c6fa6"
      },
      "execution_count": 14,
      "outputs": [
        {
          "output_type": "stream",
          "name": "stdout",
          "text": [
            "R = tensor([[[1., 1., 1., 1., 1.],\n",
            "         [1., 1., 1., 1., 1.]],\n",
            "\n",
            "        [[1., 1., 1., 1., 1.],\n",
            "         [1., 1., 1., 1., 1.]],\n",
            "\n",
            "        [[1., 1., 1., 1., 1.],\n",
            "         [1., 1., 1., 1., 1.]],\n",
            "\n",
            "        [[1., 1., 1., 1., 1.],\n",
            "         [1., 1., 1., 1., 1.]]])\n",
            "R.dtype = torch.float32\n"
          ]
        }
      ]
    },
    {
      "cell_type": "markdown",
      "source": [
        "### Range"
      ],
      "metadata": {
        "id": "CSWjnaNPF9-l"
      }
    },
    {
      "cell_type": "code",
      "source": [
        "print(torch.arange(0, 10))\n",
        "print(torch.arange(0, 10, 2))"
      ],
      "metadata": {
        "colab": {
          "base_uri": "https://localhost:8080/"
        },
        "id": "OPzBan-SFxEM",
        "outputId": "9f564d40-000f-4bf3-d589-d0a6d94b0244"
      },
      "execution_count": 15,
      "outputs": [
        {
          "output_type": "stream",
          "name": "stdout",
          "text": [
            "tensor([0, 1, 2, 3, 4, 5, 6, 7, 8, 9])\n",
            "tensor([0, 2, 4, 6, 8])\n"
          ]
        }
      ]
    },
    {
      "cell_type": "markdown",
      "source": [
        "### Tensor Like"
      ],
      "metadata": {
        "id": "Zwg-cx0DGeE_"
      }
    },
    {
      "cell_type": "code",
      "source": [
        "T1 = torch.rand(2, 2, 2)\n",
        "print(T1)\n",
        "print(\"T1.shape =\", T1.shape)\n",
        "T2 = torch.zeros_like(T1)\n",
        "print(T2)\n",
        "print(\"T2.shape =\", T2.shape)"
      ],
      "metadata": {
        "colab": {
          "base_uri": "https://localhost:8080/"
        },
        "id": "Ns6WVhmaGF4e",
        "outputId": "38f54e90-c218-42f4-9a9a-8488beadf75f"
      },
      "execution_count": 16,
      "outputs": [
        {
          "output_type": "stream",
          "name": "stdout",
          "text": [
            "tensor([[[0.4347, 0.3871],\n",
            "         [0.8004, 0.5652]],\n",
            "\n",
            "        [[0.7678, 0.1059],\n",
            "         [0.7015, 0.4481]]])\n",
            "T1.shape = torch.Size([2, 2, 2])\n",
            "tensor([[[0., 0.],\n",
            "         [0., 0.]],\n",
            "\n",
            "        [[0., 0.],\n",
            "         [0., 0.]]])\n",
            "T2.shape = torch.Size([2, 2, 2])\n"
          ]
        }
      ]
    },
    {
      "cell_type": "markdown",
      "source": [
        "## 1.3 Tensors attributes"
      ],
      "metadata": {
        "id": "vgppJZ_kHGTy"
      }
    },
    {
      "cell_type": "code",
      "source": [
        "t = torch.tensor([3., 6., 9.],\n",
        "                 dtype=torch.float16,\n",
        "                 device=\"cpu\",\n",
        "                 requires_grad=False)\n",
        "print(\"t =\", t)\n",
        "print(\"t.dtype =\", t.dtype)\n",
        "print(\"t.device =\", t.device)\n",
        "print(\"t.requires_grad =\", t.requires_grad)"
      ],
      "metadata": {
        "colab": {
          "base_uri": "https://localhost:8080/"
        },
        "id": "h7jEeYZcGuZ-",
        "outputId": "ec9947be-a723-4165-ad23-859b84286492"
      },
      "execution_count": 17,
      "outputs": [
        {
          "output_type": "stream",
          "name": "stdout",
          "text": [
            "t = tensor([3., 6., 9.], dtype=torch.float16)\n",
            "t.dtype = torch.float16\n",
            "t.device = cpu\n",
            "t.requires_grad = False\n"
          ]
        }
      ]
    },
    {
      "cell_type": "markdown",
      "source": [
        "## 4. Tensor Operations\n",
        "\n",
        "- Element-wise (add, sub, mult, div)\n",
        "- Scalar (shift, scale)\n",
        "- Matrix Product\n",
        "- Produto escalar"
      ],
      "metadata": {
        "id": "tWnUnrUSKdkh"
      }
    },
    {
      "cell_type": "code",
      "source": [
        "T1 = torch.rand(2, 2)\n",
        "T2 = torch.rand(2, 2)\n",
        "print(\"T1 =\", T1)\n",
        "print(\"T2 =\", T2)\n",
        "\n",
        "# Element wise\n",
        "print(\"T1 + T2 =\", T1 + T2)\n",
        "print(\"T1 - T2 =\", T1 - T2)\n",
        "print(\"T1 * T2 =\", T1 * T2)\n",
        "print(\"T1 / T2 =\", T1 / T2)"
      ],
      "metadata": {
        "colab": {
          "base_uri": "https://localhost:8080/"
        },
        "id": "d03SyhEgHSDF",
        "outputId": "0acfe064-aa51-45bb-fd05-b7813344ccbf"
      },
      "execution_count": 18,
      "outputs": [
        {
          "output_type": "stream",
          "name": "stdout",
          "text": [
            "T1 = tensor([[0.2017, 0.1979],\n",
            "        [0.7128, 0.9513]])\n",
            "T2 = tensor([[0.9820, 0.1183],\n",
            "        [0.8466, 0.5277]])\n",
            "T1 + T2 = tensor([[1.1837, 0.3162],\n",
            "        [1.5595, 1.4791]])\n",
            "T1 - T2 = tensor([[-0.7803,  0.0795],\n",
            "        [-0.1338,  0.4236]])\n",
            "T1 * T2 = tensor([[0.1981, 0.0234],\n",
            "        [0.6035, 0.5021]])\n",
            "T1 / T2 = tensor([[0.2054, 1.6721],\n",
            "        [0.8420, 1.8026]])\n"
          ]
        }
      ]
    },
    {
      "cell_type": "code",
      "source": [
        "# Scalar prod and shift\n",
        "print(\"a * T1 =\", 4. * T1)\n",
        "print(\"a + T1 =\", 10. + T1)"
      ],
      "metadata": {
        "colab": {
          "base_uri": "https://localhost:8080/"
        },
        "id": "rjPc1WRnKvxV",
        "outputId": "a04dc057-5249-4ea4-9c8c-e70eb4b4efbd"
      },
      "execution_count": 19,
      "outputs": [
        {
          "output_type": "stream",
          "name": "stdout",
          "text": [
            "a * T1 = tensor([[0.8068, 0.7914],\n",
            "        [2.8514, 3.8053]])\n",
            "a + T1 = tensor([[10.2017, 10.1979],\n",
            "        [10.7128, 10.9513]])\n"
          ]
        }
      ]
    },
    {
      "cell_type": "code",
      "source": [
        "# Matrix prod\n",
        "print(\"T1 @ T2 =\", torch.matmul(T1, T2))\n",
        "print(\"T1 @ T2 =\", T1 @ T2)"
      ],
      "metadata": {
        "colab": {
          "base_uri": "https://localhost:8080/"
        },
        "id": "TQVVq0bPLF2J",
        "outputId": "3d8a7340-9b9f-420b-8ba6-412df7dbb2e1"
      },
      "execution_count": 20,
      "outputs": [
        {
          "output_type": "stream",
          "name": "stdout",
          "text": [
            "T1 @ T2 = tensor([[0.3656, 0.1283],\n",
            "        [1.5054, 0.5864]])\n",
            "T1 @ T2 = tensor([[0.3656, 0.1283],\n",
            "        [1.5054, 0.5864]])\n"
          ]
        }
      ]
    },
    {
      "cell_type": "code",
      "source": [
        "# Dot prod\n",
        "T1 = torch.rand(3)\n",
        "T2 = torch.rand(3)\n",
        "print(\"T1 =\", T1)\n",
        "print(\"T2 =\", T2)\n",
        "print(\"T1 @ T2 =\", T1 @ T2)"
      ],
      "metadata": {
        "colab": {
          "base_uri": "https://localhost:8080/"
        },
        "id": "3iATt3svMas-",
        "outputId": "9ccd8548-f8fd-4fe0-ccf6-3ef1be91daed"
      },
      "execution_count": 21,
      "outputs": [
        {
          "output_type": "stream",
          "name": "stdout",
          "text": [
            "T1 = tensor([0.1682, 0.0327, 0.8280])\n",
            "T2 = tensor([0.5985, 0.1234, 0.1211])\n",
            "T1 @ T2 = tensor(0.2050)\n"
          ]
        }
      ]
    },
    {
      "cell_type": "markdown",
      "source": [
        "### Torch matmul is fast"
      ],
      "metadata": {
        "id": "nrA7POZwU7BG"
      }
    },
    {
      "cell_type": "code",
      "source": [
        "def matmul(A, B):\n",
        "  # A(m x n) * B (p x q) = C(m x q), se n == p\n",
        "  m = len(A)\n",
        "  n = len(A[0])\n",
        "  p = len(B)\n",
        "  q = len(B[0])\n",
        "  assert n == p, \"n != p\"\n",
        "\n",
        "  C = [[0 for _ in range(q)] for _ in range(m)] # (m x q)\n",
        "\n",
        "  for i in range(m):\n",
        "    for j in range(q):\n",
        "      for k in range(n):\n",
        "        C[i][j] += A[i][k] * B[k][j]\n",
        "  return C"
      ],
      "metadata": {
        "id": "zM4ts9FVMer9"
      },
      "execution_count": 4,
      "outputs": []
    },
    {
      "cell_type": "code",
      "source": [
        "A = torch.rand(50, 50)\n",
        "B = torch.rand(50, 50)\n",
        "C1 = torch.tensor(matmul(A, B))\n",
        "C2 = torch.matmul(A, B)\n",
        "print(\"Equal?\", torch.all(C1 - C2 < 1e-05))"
      ],
      "metadata": {
        "colab": {
          "base_uri": "https://localhost:8080/"
        },
        "id": "ogA9zm2JOheV",
        "outputId": "9e7da517-6e7a-47d7-ebac-a0c48a29af9b"
      },
      "execution_count": 43,
      "outputs": [
        {
          "output_type": "stream",
          "name": "stdout",
          "text": [
            "Equal? tensor(True)\n"
          ]
        }
      ]
    },
    {
      "cell_type": "code",
      "source": [
        "%%time\n",
        "C1 = matmul(A, B)"
      ],
      "metadata": {
        "colab": {
          "base_uri": "https://localhost:8080/"
        },
        "id": "2pUY__74OoOJ",
        "outputId": "9283f75e-5c42-4bba-864d-bcaf522ac368"
      },
      "execution_count": 44,
      "outputs": [
        {
          "output_type": "stream",
          "name": "stdout",
          "text": [
            "CPU times: user 3.18 s, sys: 22.8 ms, total: 3.2 s\n",
            "Wall time: 3.28 s\n"
          ]
        }
      ]
    },
    {
      "cell_type": "code",
      "source": [
        "%%time\n",
        "C2 = A @ B"
      ],
      "metadata": {
        "colab": {
          "base_uri": "https://localhost:8080/"
        },
        "id": "WC9I81Z0PuSA",
        "outputId": "c067ba3d-c864-4005-97a3-41bb1387f392"
      },
      "execution_count": 45,
      "outputs": [
        {
          "output_type": "stream",
          "name": "stdout",
          "text": [
            "CPU times: user 122 µs, sys: 3 µs, total: 125 µs\n",
            "Wall time: 132 µs\n"
          ]
        }
      ]
    },
    {
      "cell_type": "markdown",
      "source": [
        "## 5. Tensor Aggregation\n",
        "\n"
      ],
      "metadata": {
        "id": "V7nKmNk-Puhe"
      }
    },
    {
      "cell_type": "code",
      "source": [
        "x = torch.arange(0, 100, 10, dtype = torch.float32)\n",
        "print(\"x =\", x)\n",
        "print(\"x.min() =\", x.min())\n",
        "print(\"x.max() =\", torch.max(x))"
      ],
      "metadata": {
        "id": "y_9-dK0AP1XG",
        "colab": {
          "base_uri": "https://localhost:8080/"
        },
        "outputId": "3eb92074-6b21-4439-f111-93f44884997b"
      },
      "execution_count": 48,
      "outputs": [
        {
          "output_type": "stream",
          "name": "stdout",
          "text": [
            "x = tensor([ 0., 10., 20., 30., 40., 50., 60., 70., 80., 90.])\n",
            "x.min() = tensor(0.)\n",
            "x.max() = tensor(90.)\n",
            "x.mean() = tensor(45.)\n"
          ]
        }
      ]
    },
    {
      "cell_type": "code",
      "source": [
        "X = torch.rand(5, 3)\n",
        "print(\"X =\", X)\n",
        "print(\"X.mean() =\", X.mean())\n",
        "print(\"X.mean(axis=0) =\", X.mean(axis=0)) # Column-wise\n",
        "print(\"X.mean(axis=1) =\", X.mean(axis=1)) # Row-wise"
      ],
      "metadata": {
        "colab": {
          "base_uri": "https://localhost:8080/"
        },
        "id": "fBQSwEyuQEV8",
        "outputId": "39261bba-d593-4642-b9a0-d3ae16b65e6a"
      },
      "execution_count": 54,
      "outputs": [
        {
          "output_type": "stream",
          "name": "stdout",
          "text": [
            "X = tensor([[0.4883, 0.9520, 0.5526],\n",
            "        [0.1990, 0.4888, 0.1579],\n",
            "        [0.9221, 0.8559, 0.3942],\n",
            "        [0.9103, 0.6662, 0.6777],\n",
            "        [0.8039, 0.7190, 0.6191]])\n",
            "X.mean() = tensor(0.6271)\n",
            "X.mean(axis=0) = tensor([0.6647, 0.7364, 0.4803])\n",
            "X.mean(axis=1) = tensor([0.6643, 0.2819, 0.7241, 0.7514, 0.7140])\n"
          ]
        }
      ]
    },
    {
      "cell_type": "code",
      "source": [
        "x = torch.rand(5, 1)\n",
        "print(f\"x.T = {x.T}\")\n",
        "print(f\"Max of x: {x.max()} at index = {x.argmax()}\")"
      ],
      "metadata": {
        "colab": {
          "base_uri": "https://localhost:8080/"
        },
        "id": "_rIOCi0zQVPG",
        "outputId": "77c074c2-681b-4132-a450-dea1441dd3ea"
      },
      "execution_count": 58,
      "outputs": [
        {
          "output_type": "stream",
          "name": "stdout",
          "text": [
            "x.T = tensor([[0.0831, 0.8276, 0.3075, 0.0583, 0.4471]])\n",
            "Max of x: 0.8276044726371765 at index = 1\n"
          ]
        }
      ]
    },
    {
      "cell_type": "markdown",
      "source": [
        "## 6. Reshapes"
      ],
      "metadata": {
        "id": "Q-9OqgRbTBWE"
      }
    },
    {
      "cell_type": "code",
      "source": [
        "# Remember big TENSOR\n",
        "TENSOR, TENSOR.shape"
      ],
      "metadata": {
        "colab": {
          "base_uri": "https://localhost:8080/"
        },
        "id": "qL4hwordRlFf",
        "outputId": "b7edc58c-4f87-4715-971f-0c43bb4bc261"
      },
      "execution_count": 64,
      "outputs": [
        {
          "output_type": "execute_result",
          "data": {
            "text/plain": [
              "(tensor([[[ 1,  2,  3],\n",
              "          [ 4,  5,  6],\n",
              "          [ 7,  8,  9]],\n",
              " \n",
              "         [[10, 11, 12],\n",
              "          [13, 14, 15],\n",
              "          [16, 17, 18]]]),\n",
              " torch.Size([2, 3, 3]))"
            ]
          },
          "metadata": {},
          "execution_count": 64
        }
      ]
    },
    {
      "cell_type": "code",
      "source": [
        "# One liner using reshape\n",
        "x = torch.arange(1, 19).reshape(2, 3, 3)\n",
        "x"
      ],
      "metadata": {
        "colab": {
          "base_uri": "https://localhost:8080/"
        },
        "id": "MTtVKNdtTGUk",
        "outputId": "d099a3da-b7d9-4db9-a0e2-c1ba5478145f"
      },
      "execution_count": 67,
      "outputs": [
        {
          "output_type": "execute_result",
          "data": {
            "text/plain": [
              "tensor([[[ 1,  2,  3],\n",
              "         [ 4,  5,  6],\n",
              "         [ 7,  8,  9]],\n",
              "\n",
              "        [[10, 11, 12],\n",
              "         [13, 14, 15],\n",
              "         [16, 17, 18]]])"
            ]
          },
          "metadata": {},
          "execution_count": 67
        }
      ]
    },
    {
      "cell_type": "code",
      "source": [
        "# View vs. reshape\n",
        "y = x.reshape(1, 18)\n",
        "z = x.view(1, 18)\n",
        "x[0, 1, 1] = 100\n",
        "print(\"x =\", x)\n",
        "print(\"y =\", y)\n",
        "print(\"z =\", z)"
      ],
      "metadata": {
        "colab": {
          "base_uri": "https://localhost:8080/"
        },
        "id": "ZfAcym4GTJcI",
        "outputId": "28cc3a48-e6c1-449e-dd70-8baed055de4b"
      },
      "execution_count": 70,
      "outputs": [
        {
          "output_type": "stream",
          "name": "stdout",
          "text": [
            "x = tensor([[[  1,   2,   3],\n",
            "         [  4, 100,   6],\n",
            "         [  7,   8,   9]],\n",
            "\n",
            "        [[ 10,  11,  12],\n",
            "         [ 13,  14,  15],\n",
            "         [ 16,  17,  18]]])\n",
            "y = tensor([[  1,   2,   3,   4, 100,   6,   7,   8,   9,  10,  11,  12,  13,  14,\n",
            "          15,  16,  17,  18]])\n",
            "z = tensor([[  1,   2,   3,   4, 100,   6,   7,   8,   9,  10,  11,  12,  13,  14,\n",
            "          15,  16,  17,  18]])\n"
          ]
        }
      ]
    },
    {
      "cell_type": "code",
      "source": [
        "# stack vs. vstack vs. hstack\n",
        "X = torch.rand(2, 2)\n",
        "print(torch.stack([X, X, X], axis = 0))\n",
        "print()\n",
        "print(torch.stack([X, X, X], axis = 1))\n",
        "print()\n",
        "print(torch.stack([X, X, X], axis = 2))"
      ],
      "metadata": {
        "colab": {
          "base_uri": "https://localhost:8080/"
        },
        "id": "No7WEoJCY4H5",
        "outputId": "54d75e57-753d-4918-e0d9-da4bfd67eb3e"
      },
      "execution_count": 84,
      "outputs": [
        {
          "output_type": "stream",
          "name": "stdout",
          "text": [
            "tensor([[[0.2300, 0.7818],\n",
            "         [0.0373, 0.7048]],\n",
            "\n",
            "        [[0.2300, 0.7818],\n",
            "         [0.0373, 0.7048]],\n",
            "\n",
            "        [[0.2300, 0.7818],\n",
            "         [0.0373, 0.7048]]])\n",
            "\n",
            "tensor([[[0.2300, 0.7818],\n",
            "         [0.2300, 0.7818],\n",
            "         [0.2300, 0.7818]],\n",
            "\n",
            "        [[0.0373, 0.7048],\n",
            "         [0.0373, 0.7048],\n",
            "         [0.0373, 0.7048]]])\n",
            "\n",
            "tensor([[[0.2300, 0.2300, 0.2300],\n",
            "         [0.7818, 0.7818, 0.7818]],\n",
            "\n",
            "        [[0.0373, 0.0373, 0.0373],\n",
            "         [0.7048, 0.7048, 0.7048]]])\n"
          ]
        }
      ]
    },
    {
      "cell_type": "code",
      "source": [
        "print(torch.rand(10, 1))\n",
        "print(torch.rand(10, 1).squeeze())\n",
        "print(torch.rand(1, 10).squeeze().unsqueeze(dim = 1))"
      ],
      "metadata": {
        "colab": {
          "base_uri": "https://localhost:8080/"
        },
        "id": "mqEoNGfEZNrA",
        "outputId": "aaa77de0-d090-4a37-b195-5d4f10235a85"
      },
      "execution_count": 90,
      "outputs": [
        {
          "output_type": "stream",
          "name": "stdout",
          "text": [
            "tensor([[0.8370],\n",
            "        [0.3765],\n",
            "        [0.1332],\n",
            "        [0.7901],\n",
            "        [0.8443],\n",
            "        [0.3590],\n",
            "        [0.2736],\n",
            "        [0.0716],\n",
            "        [0.2017],\n",
            "        [0.8036]])\n",
            "tensor([0.9448, 0.5254, 0.8436, 0.3839, 0.4192, 0.8904, 0.4012, 0.5753, 0.2385,\n",
            "        0.6749])\n",
            "tensor([[0.7364],\n",
            "        [0.0445],\n",
            "        [0.1923],\n",
            "        [0.4901],\n",
            "        [0.9933],\n",
            "        [0.5501],\n",
            "        [0.9588],\n",
            "        [0.7888],\n",
            "        [0.1970],\n",
            "        [0.0693]])\n"
          ]
        }
      ]
    },
    {
      "cell_type": "markdown",
      "source": [
        "## 7. Indexing"
      ],
      "metadata": {
        "id": "C0TnjmQPgTOA"
      }
    },
    {
      "cell_type": "markdown",
      "source": [
        "Semelhante a numpy..."
      ],
      "metadata": {
        "id": "SLQQQ9enCfwS"
      }
    },
    {
      "cell_type": "markdown",
      "source": [
        "## 8. Device GPU"
      ],
      "metadata": {
        "id": "-9KJOnLGHZjK"
      }
    },
    {
      "cell_type": "code",
      "source": [
        "# Iniciar um ambiente com gpu e rodar a partir daqui"
      ],
      "metadata": {
        "id": "pvpHdHCHCjm2"
      },
      "execution_count": 1,
      "outputs": []
    },
    {
      "cell_type": "code",
      "source": [
        "import torch\n",
        "import time\n",
        "!nvidia-smi"
      ],
      "metadata": {
        "colab": {
          "base_uri": "https://localhost:8080/"
        },
        "id": "rqlaY46pfQj9",
        "outputId": "a7b5bc9c-3371-4305-8a80-0770bf7c950b"
      },
      "execution_count": 96,
      "outputs": [
        {
          "output_type": "stream",
          "name": "stdout",
          "text": [
            "Tue Dec 17 00:55:30 2024       \n",
            "+---------------------------------------------------------------------------------------+\n",
            "| NVIDIA-SMI 535.104.05             Driver Version: 535.104.05   CUDA Version: 12.2     |\n",
            "|-----------------------------------------+----------------------+----------------------+\n",
            "| GPU  Name                 Persistence-M | Bus-Id        Disp.A | Volatile Uncorr. ECC |\n",
            "| Fan  Temp   Perf          Pwr:Usage/Cap |         Memory-Usage | GPU-Util  Compute M. |\n",
            "|                                         |                      |               MIG M. |\n",
            "|=========================================+======================+======================|\n",
            "|   0  Tesla T4                       Off | 00000000:00:04.0 Off |                    0 |\n",
            "| N/A   58C    P0              28W /  70W |    161MiB / 15360MiB |      0%      Default |\n",
            "|                                         |                      |                  N/A |\n",
            "+-----------------------------------------+----------------------+----------------------+\n",
            "                                                                                         \n",
            "+---------------------------------------------------------------------------------------+\n",
            "| Processes:                                                                            |\n",
            "|  GPU   GI   CI        PID   Type   Process name                            GPU Memory |\n",
            "|        ID   ID                                                             Usage      |\n",
            "|=======================================================================================|\n",
            "+---------------------------------------------------------------------------------------+\n"
          ]
        }
      ]
    },
    {
      "cell_type": "code",
      "source": [
        "device = \"cuda\" if torch.cuda.is_available() else \"cpu\"\n",
        "device"
      ],
      "metadata": {
        "colab": {
          "base_uri": "https://localhost:8080/",
          "height": 35
        },
        "id": "nEreyOiwCnUs",
        "outputId": "0c8c9086-7212-4416-90e9-aea8745b5b9f"
      },
      "execution_count": 97,
      "outputs": [
        {
          "output_type": "execute_result",
          "data": {
            "text/plain": [
              "'cuda'"
            ],
            "application/vnd.google.colaboratory.intrinsic+json": {
              "type": "string"
            }
          },
          "metadata": {},
          "execution_count": 97
        }
      ]
    },
    {
      "cell_type": "code",
      "source": [
        "A = torch.rand(100, 100)\n",
        "B = torch.rand(100, 100)\n",
        "Agpu = A.to(device)\n",
        "Bgpu = B.to(device)\n",
        "Cmanual = torch.tensor(matmul(A, B))\n",
        "Ctorch = torch.matmul(A, B)\n",
        "Cgpu = torch.matmul(Agpu, Bgpu)\n",
        "print(\"Equal (manual and torch)?\", torch.all(Cmanual - Ctorch < 1e-05))\n",
        "print(\"Equal (torch and gpu)?\", torch.all(Ctorch - Cgpu.to(\"cpu\") < 1e-05))"
      ],
      "metadata": {
        "colab": {
          "base_uri": "https://localhost:8080/"
        },
        "id": "HLezB-60Cv_f",
        "outputId": "0c2c3029-6037-4c88-e5ae-b8041ce3cd4c"
      },
      "execution_count": 98,
      "outputs": [
        {
          "output_type": "stream",
          "name": "stdout",
          "text": [
            "Equal (manual and torch)? tensor(False)\n",
            "Equal (torch and gpu)? tensor(False)\n"
          ]
        }
      ]
    },
    {
      "cell_type": "code",
      "source": [
        "t = time.perf_counter()\n",
        "for _ in range(1):\n",
        "  ctorch = matmul(\n",
        "      torch.rand(100, 100),\n",
        "      torch.rand(100, 100))\n",
        "print(f\"{time.perf_counter() - t:.3f} s\")"
      ],
      "metadata": {
        "colab": {
          "base_uri": "https://localhost:8080/"
        },
        "id": "93Ahsr48DHjV",
        "outputId": "c760a58c-1c3f-479c-c749-8a80c3f6bdd5"
      },
      "execution_count": 99,
      "outputs": [
        {
          "output_type": "stream",
          "name": "stdout",
          "text": [
            "12.595 s\n"
          ]
        }
      ]
    },
    {
      "cell_type": "code",
      "source": [
        "t = time.perf_counter()\n",
        "for _ in range(100):\n",
        "  ctorch = torch.matmul(\n",
        "      torch.rand(1024, 1024),\n",
        "      torch.rand(1024, 1024))\n",
        "print(f\"{time.perf_counter() - t:.3f} s\")"
      ],
      "metadata": {
        "colab": {
          "base_uri": "https://localhost:8080/"
        },
        "id": "eIcBGTVVDXaT",
        "outputId": "97963e2b-af41-4a61-aec3-fa112c4422c5"
      },
      "execution_count": 100,
      "outputs": [
        {
          "output_type": "stream",
          "name": "stdout",
          "text": [
            "3.853 s\n"
          ]
        }
      ]
    },
    {
      "cell_type": "code",
      "source": [
        "t = time.perf_counter()\n",
        "for _ in range(100):\n",
        "  cgpu = torch.matmul(\n",
        "      torch.rand(1024, 1024).to(device),\n",
        "      torch.rand(1024, 1024).to(device))\n",
        "print(f\"{time.perf_counter() - t:.3f} s\")"
      ],
      "metadata": {
        "colab": {
          "base_uri": "https://localhost:8080/"
        },
        "id": "GMx2dzb6Dnrl",
        "outputId": "c1a45849-7616-467b-b4c3-7d4760dde2c4"
      },
      "execution_count": 101,
      "outputs": [
        {
          "output_type": "stream",
          "name": "stdout",
          "text": [
            "1.416 s\n"
          ]
        }
      ]
    },
    {
      "cell_type": "code",
      "source": [],
      "metadata": {
        "id": "i9kffWNREKAD"
      },
      "execution_count": null,
      "outputs": []
    }
  ]
}